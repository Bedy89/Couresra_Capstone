{
 "cells": [
  {
   "cell_type": "markdown",
   "metadata": {},
   "source": [
    "## Introduction/Business Problem \n",
    "-----------------------------------------\n",
    "\n",
    "A hypothetical couple is planning a trip to Toronto (Canada) for a sojourn of seven (7) days. They intend to visit five (5) main venues in the city during their stay:\n",
    "1.\tThe Distillery Historic District\n",
    "2.\tThe Ripley's Aquarium of Canada\n",
    "3.\tThe CN Tower \n",
    "4.\tThe CF Toronto Eaton Centre\n",
    "5.\tThe Toronto Islands-Hanan’s Point Park \n",
    "\n",
    "The couple wants to stay in a hotel with good rating and price which is : <b> within a radius of 25 miles of the Toronto Pearson International Airport; and at a maximum distance of 20 miles from each of the five (5) venues that the couple planned to visit. \n"
   ]
  },
  {
   "cell_type": "markdown",
   "metadata": {},
   "source": []
  },
  {
   "cell_type": "code",
   "execution_count": null,
   "metadata": {},
   "outputs": [],
   "source": []
  }
 ],
 "metadata": {
  "kernelspec": {
   "display_name": "Python 3",
   "language": "python",
   "name": "python3"
  },
  "language_info": {
   "codemirror_mode": {
    "name": "ipython",
    "version": 3
   },
   "file_extension": ".py",
   "mimetype": "text/x-python",
   "name": "python",
   "nbconvert_exporter": "python",
   "pygments_lexer": "ipython3",
   "version": "3.7.4"
  }
 },
 "nbformat": 4,
 "nbformat_minor": 2
}
