{
 "cells": [
  {
   "cell_type": "markdown",
   "metadata": {},
   "source": [
    "## Data Section \n",
    "----------------------------\n",
    "To Solve the problem, we will first use Hierarchical Clustering to group 100 hotels in the vicinity of the Toronto Pearson International Airport based on rating, price, distance to the five (5) target venues and the airport.  Then we will build a recommendation system to suggest ten (10) hotels that best fit to the requirements of the couple.  Most of the data we will be retrieved from Foursquare.  We will collect:\n",
    "-\tThe <b> geographic coordinates</b> of the Toronto Pearson International Airport\n",
    "-\tThe list of <b> 100 hotels </b> in the vicinity of the Toronto Pearson International Airport with their names, and geographic coordinates\n",
    "-\tThe <b>FourSquare's rating</b> for all the 100 hotels selected\n",
    "-\tThe <b>price rating</b>\n",
    "-\t The <b>geographic coordinates for the five (5) targeted venues</b> \n"
   ]
  },
  {
   "cell_type": "code",
   "execution_count": null,
   "metadata": {},
   "outputs": [],
   "source": []
  }
 ],
 "metadata": {
  "kernelspec": {
   "display_name": "Python 3",
   "language": "python",
   "name": "python3"
  },
  "language_info": {
   "codemirror_mode": {
    "name": "ipython",
    "version": 3
   },
   "file_extension": ".py",
   "mimetype": "text/x-python",
   "name": "python",
   "nbconvert_exporter": "python",
   "pygments_lexer": "ipython3",
   "version": "3.7.4"
  }
 },
 "nbformat": 4,
 "nbformat_minor": 2
}
